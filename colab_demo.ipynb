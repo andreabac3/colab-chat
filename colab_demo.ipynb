{
  "cells": [
    {
      "cell_type": "code",
      "execution_count": null,
      "metadata": {
        "id": "Arn7lFIVyzl8"
      },
      "outputs": [],
      "source": [
        "! git clone https://github.com/andreabac3/colab-chat.git\n",
        "%cd colab-chat\n",
        "! pip3 install -r -q requirements.txt"
      ]
    },
    {
      "cell_type": "code",
      "execution_count": null,
      "metadata": {
        "colab": {
          "background_save": true
        },
        "id": "jbJzM1qtzXAk"
      },
      "outputs": [],
      "source": [
        "!bash start_demo.sh"
      ]
    }
  ],
  "metadata": {
    "accelerator": "GPU",
    "colab": {
      "provenance": []
    },
    "kernelspec": {
      "display_name": "Python 3",
      "name": "python3"
    },
    "language_info": {
      "name": "python"
    }
  },
  "nbformat": 4,
  "nbformat_minor": 0
}